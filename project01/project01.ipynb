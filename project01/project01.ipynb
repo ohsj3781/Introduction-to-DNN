{
  "cells": [
    {
      "cell_type": "code",
      "execution_count": null,
      "id": "166435ec",
      "metadata": {},
      "outputs": [],
      "source": [
        "# Declaration of hyperparameters for training a neural network\n",
        "\n",
        "BATCH_SIZE=64\n",
        "EPOCHS=32\n",
        "AUGEMENTATION_PERCENTAGE = 0.2\n",
        "LEARNING_RATE=0.1\n",
        "OPTIMIZER='sgd'\n",
        "DROPOUT=0.1\n",
        "# SCHEDULER='LambdaLR'\n",
        "SCHEDULER='StepLR'\n",
        "STEP_SIZE=16\n",
        "GAMMA=0.1\n",
        "# DECRESE_LR=0.95\n"
      ]
    },
    {
      "cell_type": "markdown",
      "id": "9b5397b8",
      "metadata": {},
      "source": []
    },
    {
      "cell_type": "code",
      "execution_count": 227,
      "id": "7da61954",
      "metadata": {
        "id": "7da61954"
      },
      "outputs": [],
      "source": [
        "# Load all dependencies\n",
        "import torch\n",
        "import torch.nn as nn\n",
        "from torchvision import transforms, datasets"
      ]
    },
    {
      "cell_type": "code",
      "execution_count": 228,
      "id": "27a69289",
      "metadata": {
        "colab": {
          "base_uri": "https://localhost:8080/"
        },
        "id": "27a69289",
        "outputId": "0b98646d-9829-4d87-fcba-8ae0f8fe432c"
      },
      "outputs": [
        {
          "name": "stdout",
          "output_type": "stream",
          "text": [
            "Dataset CIFAR10\n",
            "    Number of datapoints: 50000\n",
            "    Root location: ./data\n",
            "    Split: Train\n",
            "    StandardTransform\n",
            "Transform: Compose(\n",
            "               RandomApply(\n",
            "               p=0.2\n",
            "               RandomHorizontalFlip(p=0.5)\n",
            "               RandomRotation(degrees=[-30.0, 30.0], interpolation=nearest, expand=False, fill=0)\n",
            "               ColorJitter(brightness=(0.8, 1.2), contrast=(0.8, 1.2), saturation=(0.8, 1.2), hue=(-0.2, 0.2))\n",
            "           )\n",
            "               ToTensor()\n",
            "           )\n",
            "(50000, 32, 32, 3)\n"
          ]
        }
      ],
      "source": [
        "# Load CIFar-10 dataset\n",
        "\n",
        "# Define the transformation\n",
        "train_dataset = datasets.CIFAR10(root='./data',\n",
        "                                             train=True,\n",
        "                                             download=True,\n",
        "                                             transform=transforms.Compose([\n",
        "                                                 transforms.RandomApply(\n",
        "                                                 [\n",
        "                                                #  transforms.RandomCrop(size=24,padding=4),\n",
        "                                                 transforms.RandomHorizontalFlip(),\n",
        "                                                 transforms.RandomRotation(degrees=30),\n",
        "                                                 transforms.ColorJitter(brightness=0.2, contrast=0.2, saturation=0.2, hue=0.2),\n",
        "                                \n",
        "                                             ],p=AUGEMENTATION_PERCENTAGE),\n",
        "                                                    transforms.ToTensor(),\n",
        "                                                    \n",
        "                                                ]))\n",
        "test_dataset = datasets.CIFAR10(root='./data',\n",
        "                                            train=False,\n",
        "                                            download=True,\n",
        "                                            transform=transforms.ToTensor())\n",
        "\n",
        "train_loader = torch.utils.data.DataLoader(dataset=train_dataset,\n",
        "                                           batch_size=BATCH_SIZE,\n",
        "                                           shuffle=True)\n",
        "test_loader = torch.utils.data.DataLoader(dataset=test_dataset,\n",
        "                                           batch_size=BATCH_SIZE,\n",
        "                                           shuffle=False)\n",
        "\n",
        "print(train_loader.dataset)\n",
        "print(train_loader.dataset.data.shape)\n"
      ]
    },
    {
      "cell_type": "code",
      "execution_count": 229,
      "id": "bdd92e3b",
      "metadata": {
        "id": "bdd92e3b"
      },
      "outputs": [],
      "source": [
        "class CNN(nn.Module):\n",
        "    \"\"\"4-conv original architecture (NOT copied from any public model).\"\"\"\n",
        "    def __init__(self, p_drop=0.25):\n",
        "        super().__init__()\n",
        "        # 32x32 → 16x16\n",
        "        self.conv_block1 = nn.Sequential(\n",
        "            nn.Conv2d(3, 64, 3, padding=1, bias=False),\n",
        "            nn.BatchNorm2d(64),\n",
        "            nn.ReLU(inplace=True),\n",
        "            nn.Conv2d(64, 64, 3, padding=1, bias=False),\n",
        "            nn.BatchNorm2d(64),\n",
        "            nn.ReLU(inplace=True),\n",
        "            nn.MaxPool2d(2),\n",
        "        )\n",
        "        # 16x16 → 8x8\n",
        "        self.conv_block2 = nn.Sequential(\n",
        "            nn.Conv2d(64, 128, 3, padding=1, bias=False),\n",
        "            nn.BatchNorm2d(128),\n",
        "            nn.ReLU(inplace=True),\n",
        "            nn.Conv2d(128, 128, 3, padding=1, bias=False),\n",
        "            nn.BatchNorm2d(128),\n",
        "            nn.ReLU(inplace=True),\n",
        "            nn.MaxPool2d(2),\n",
        "            nn.Dropout2d(p_drop),\n",
        "        )\n",
        "        # 8x8 → 4x4\n",
        "        self.conv_block3 = nn.Sequential(\n",
        "            nn.Conv2d(128, 256, 3, padding=1, bias=False),\n",
        "            nn.BatchNorm2d(256),\n",
        "            nn.ReLU(inplace=True),\n",
        "            nn.Conv2d(256, 256, 3, padding=1, bias=False),\n",
        "            nn.BatchNorm2d(256),\n",
        "            nn.ReLU(inplace=True),\n",
        "            nn.MaxPool2d(2),\n",
        "            nn.Dropout2d(p_drop),\n",
        "        )\n",
        "        # 4x4 → 1x1\n",
        "        self.conv_block4 = nn.Sequential(\n",
        "            nn.Conv2d(256, 512, 3, padding=1, bias=False),\n",
        "            nn.BatchNorm2d(512),\n",
        "            nn.ReLU(inplace=True),\n",
        "            nn.AdaptiveAvgPool2d(1),\n",
        "        )\n",
        "        self.classifier = nn.Linear(512, 10)\n",
        "\n",
        "    def forward(self, x):\n",
        "        x = self.conv_block1(x)\n",
        "        x = self.conv_block2(x)\n",
        "        x = self.conv_block3(x)\n",
        "        x = self.conv_block4(x)\n",
        "        x = x.flatten(1)\n",
        "        return self.classifier(x)"
      ]
    },
    {
      "cell_type": "code",
      "execution_count": 230,
      "id": "95c33264",
      "metadata": {
        "colab": {
          "base_uri": "https://localhost:8080/"
        },
        "id": "95c33264",
        "outputId": "3e577f13-9ece-43b0-8bc3-f50faee564c1"
      },
      "outputs": [],
      "source": [
        "DEVICE=torch.device(\"cuda\" if torch.cuda.is_available() else \"cpu\")\n",
        "\n",
        "model=CNN(p_drop=DROPOUT).to(DEVICE)\n",
        "# optimizer=torch.optim.Adam(model.parameters(), lr=LEARNING_RATE)\n",
        "if OPTIMIZER == 'adam':\n",
        "    optimizer = torch.optim.Adam(model.parameters(), lr=LEARNING_RATE)\n",
        "elif OPTIMIZER == 'sgd':\n",
        "    optimizer = torch.optim.SGD(model.parameters(), lr=LEARNING_RATE, momentum=0.9)\n",
        "\n",
        "scheduler=torch.optim.lr_scheduler.StepLR(optimizer, step_size=STEP_SIZE, gamma=GAMMA)\n",
        "# scheduler=torch.optim.lr_scheduler.LambdaLR(optimizer, lr_lambda=lambda epoch: DECRESE_LR ** epoch)\n",
        "criterion=nn.CrossEntropyLoss()"
      ]
    },
    {
      "cell_type": "code",
      "execution_count": 231,
      "id": "207430f8",
      "metadata": {
        "id": "207430f8"
      },
      "outputs": [],
      "source": [
        "def train(model, train_loader,optimizer):\n",
        "    model.train()\n",
        "    for batch_idx,(image,label) in enumerate(train_loader):\n",
        "        image=image.to(DEVICE)\n",
        "        label=label.to(DEVICE)\n",
        "        optimizer.zero_grad()\n",
        "\n",
        "        output=model(image)\n",
        "        loss=criterion(output,label)\n",
        "        loss.backward()\n",
        "        optimizer.step()\n",
        "    scheduler.step()"
      ]
    },
    {
      "cell_type": "code",
      "execution_count": 232,
      "id": "7e7a2555",
      "metadata": {
        "id": "7e7a2555"
      },
      "outputs": [],
      "source": [
        "def evaluate(model,test_loader):\n",
        "    model.eval()\n",
        "    test_loss=0\n",
        "    correct=0\n",
        "    with torch.no_grad():\n",
        "        for image,label in test_loader:\n",
        "            image=image.to(DEVICE)\n",
        "            label=label.to(DEVICE)\n",
        "            output=model(image)\n",
        "            test_loss+=criterion(output,label).item()\n",
        "            pred=output.argmax(dim=1, keepdim=True)\n",
        "            correct+=pred.eq(label.view_as(pred)).sum().item()\n",
        "    test_loss/=len(test_loader.dataset)\n",
        "    test_accuracy=100. * correct / len(test_loader.dataset)\n",
        "    return test_loss, test_accuracy"
      ]
    },
    {
      "cell_type": "code",
      "execution_count": 233,
      "id": "eba4dfdc",
      "metadata": {
        "colab": {
          "base_uri": "https://localhost:8080/"
        },
        "id": "eba4dfdc",
        "outputId": "4eaee298-5d83-443f-d404-510bac3c5f28"
      },
      "outputs": [
        {
          "name": "stdout",
          "output_type": "stream",
          "text": [
            "Epoch: 1, Test set: Average loss: 0.0222, Accuracy: 47.47%\n",
            "\n",
            "Epoch: 2, Test set: Average loss: 0.0154, Accuracy: 65.71%\n",
            "\n",
            "Epoch: 3, Test set: Average loss: 0.0119, Accuracy: 73.95%\n",
            "\n",
            "Epoch: 4, Test set: Average loss: 0.0099, Accuracy: 78.15%\n",
            "\n",
            "Epoch: 5, Test set: Average loss: 0.0087, Accuracy: 81.27%\n",
            "\n",
            "Epoch: 6, Test set: Average loss: 0.0080, Accuracy: 82.59%\n",
            "\n",
            "Epoch: 7, Test set: Average loss: 0.0075, Accuracy: 83.76%\n",
            "\n",
            "Epoch: 8, Test set: Average loss: 0.0072, Accuracy: 84.88%\n",
            "\n",
            "Epoch: 9, Test set: Average loss: 0.0071, Accuracy: 84.91%\n",
            "\n",
            "Epoch: 10, Test set: Average loss: 0.0072, Accuracy: 84.52%\n",
            "\n",
            "Epoch: 11, Test set: Average loss: 0.0065, Accuracy: 86.13%\n",
            "\n",
            "Epoch: 12, Test set: Average loss: 0.0080, Accuracy: 84.77%\n",
            "\n",
            "Epoch: 13, Test set: Average loss: 0.0065, Accuracy: 87.24%\n",
            "\n",
            "Epoch: 14, Test set: Average loss: 0.0067, Accuracy: 86.81%\n",
            "\n",
            "Epoch: 15, Test set: Average loss: 0.0065, Accuracy: 87.10%\n",
            "\n",
            "Epoch: 16, Test set: Average loss: 0.0068, Accuracy: 87.22%\n",
            "\n",
            "Epoch: 17, Test set: Average loss: 0.0056, Accuracy: 89.14%\n",
            "\n",
            "Epoch: 18, Test set: Average loss: 0.0056, Accuracy: 89.31%\n",
            "\n",
            "Epoch: 19, Test set: Average loss: 0.0058, Accuracy: 89.16%\n",
            "\n",
            "Epoch: 20, Test set: Average loss: 0.0058, Accuracy: 89.41%\n",
            "\n",
            "Epoch: 21, Test set: Average loss: 0.0057, Accuracy: 89.64%\n",
            "\n",
            "Epoch: 22, Test set: Average loss: 0.0057, Accuracy: 89.55%\n",
            "\n",
            "Epoch: 23, Test set: Average loss: 0.0057, Accuracy: 89.64%\n",
            "\n",
            "Epoch: 24, Test set: Average loss: 0.0058, Accuracy: 89.56%\n",
            "\n",
            "Epoch: 25, Test set: Average loss: 0.0057, Accuracy: 89.81%\n",
            "\n",
            "Epoch: 26, Test set: Average loss: 0.0058, Accuracy: 89.80%\n",
            "\n",
            "Epoch: 27, Test set: Average loss: 0.0057, Accuracy: 89.69%\n",
            "\n",
            "Epoch: 28, Test set: Average loss: 0.0057, Accuracy: 89.86%\n",
            "\n",
            "Epoch: 29, Test set: Average loss: 0.0057, Accuracy: 89.88%\n",
            "\n",
            "Epoch: 30, Test set: Average loss: 0.0058, Accuracy: 89.83%\n",
            "\n",
            "Epoch: 31, Test set: Average loss: 0.0058, Accuracy: 89.84%\n",
            "\n",
            "Epoch: 32, Test set: Average loss: 0.0059, Accuracy: 89.80%\n",
            "\n"
          ]
        }
      ],
      "source": [
        "\n",
        "for epoch in range(1, EPOCHS + 1):\n",
        "    train(model, train_loader, optimizer)\n",
        "    test_loss,test_accuracy=evaluate(model, test_loader)\n",
        "    print(f'Epoch: {epoch}, Test set: Average loss: {test_loss:.4f}, Accuracy: {test_accuracy:.2f}%\\n')\n",
        "test_loss,test_accuracy=evaluate(model, test_loader)"
      ]
    },
    {
      "cell_type": "code",
      "execution_count": 234,
      "id": "69a0bb2c",
      "metadata": {},
      "outputs": [],
      "source": [
        "f=open('./log.txt','a')\n",
        "f.write(f'BATCH_SIZE={BATCH_SIZE},EPOCHS={EPOCHS},AUGEMENTATION_PERCENTAGE={AUGEMENTATION_PERCENTAGE},LEARNING_RATE={LEARNING_RATE},OPTIMIZER={OPTIMIZER},DROPOUT={DROPOUT},SCHEDULER={SCHEDULER}, STEP_SIZE={STEP_SIZE}, GAMMA={GAMMA}\\n')\n",
        "f.write(f'Test set: Average loss: {test_loss:.4f}, Accuracy: {test_accuracy:.2f}%\\n')\n",
        "f.close()"
      ]
    }
  ],
  "metadata": {
    "accelerator": "GPU",
    "colab": {
      "gpuType": "T4",
      "provenance": []
    },
    "kernelspec": {
      "display_name": ".venv",
      "language": "python",
      "name": "python3"
    },
    "language_info": {
      "codemirror_mode": {
        "name": "ipython",
        "version": 3
      },
      "file_extension": ".py",
      "mimetype": "text/x-python",
      "name": "python",
      "nbconvert_exporter": "python",
      "pygments_lexer": "ipython3",
      "version": "3.12.3"
    }
  },
  "nbformat": 4,
  "nbformat_minor": 5
}

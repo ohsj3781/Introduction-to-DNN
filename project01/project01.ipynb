{
  "cells": [
    {
      "cell_type": "code",
      "execution_count": 1,
      "id": "7da61954",
      "metadata": {
        "id": "7da61954"
      },
      "outputs": [],
      "source": [
        "# Load all dependencies\n",
        "import torch\n",
        "import torch.nn as nn\n",
        "from torchvision import transforms, datasets"
      ]
    },
    {
      "cell_type": "code",
      "execution_count": 2,
      "id": "27a69289",
      "metadata": {
        "colab": {
          "base_uri": "https://localhost:8080/"
        },
        "id": "27a69289",
        "outputId": "0b98646d-9829-4d87-fcba-8ae0f8fe432c"
      },
      "outputs": [
        {
          "name": "stderr",
          "output_type": "stream",
          "text": [
            "100.0%\n"
          ]
        },
        {
          "name": "stdout",
          "output_type": "stream",
          "text": [
            "Dataset CIFAR10\n",
            "    Number of datapoints: 50000\n",
            "    Root location: ./data\n",
            "    Split: Train\n",
            "    StandardTransform\n",
            "Transform: ToTensor()\n"
          ]
        }
      ],
      "source": [
        "# Load CIFar-10 dataset\n",
        "BATCH_SIZE=32\n",
        "train_dataset = datasets.CIFAR10(root='./data',\n",
        "                                             train=True,\n",
        "                                             download=True,\n",
        "                                             transform=transforms.ToTensor())\n",
        "test_dataset = datasets.CIFAR10(root='./data',\n",
        "                                            train=False,\n",
        "                                            download=True,\n",
        "                                            transform=transforms.ToTensor())\n",
        "train_loader = torch.utils.data.DataLoader(dataset=train_dataset,\n",
        "                                           batch_size=BATCH_SIZE,\n",
        "                                           shuffle=True)\n",
        "\n",
        "test_loader = torch.utils.data.DataLoader(dataset=test_dataset,\n",
        "                                           batch_size=BATCH_SIZE,\n",
        "                                           shuffle=False)\n",
        "\n",
        "print(train_loader.dataset)\n"
      ]
    },
    {
      "cell_type": "code",
      "execution_count": 3,
      "id": "bdd92e3b",
      "metadata": {
        "id": "bdd92e3b"
      },
      "outputs": [],
      "source": [
        "class CNN(nn.Module):\n",
        "    def __init__(self):\n",
        "        super(CNN, self).__init__()\n",
        "        self.conv1=nn.Conv2d(\n",
        "            in_channels=3,\n",
        "            out_channels=8,\n",
        "            kernel_size=3,\n",
        "            padding=1)\n",
        "        self.conv2=nn.Conv2d(\n",
        "            in_channels=8,\n",
        "            out_channels=16,\n",
        "            kernel_size=3,\n",
        "            padding=1)\n",
        "        self.pool=nn.MaxPool2d(kernel_size=2, stride=2)\n",
        "        self.fc1=nn.Linear(8*8*16,64)\n",
        "        self.fc2=nn.Linear(64,32)\n",
        "        self.fc3=nn.Linear(32,10)\n",
        "\n",
        "    def forward(self, x):\n",
        "        x=self.conv1(x)\n",
        "        x=torch.relu(x)\n",
        "        x=self.pool(x)\n",
        "        x=self.conv2(x)\n",
        "        x=torch.relu(x)\n",
        "        x=self.pool(x)\n",
        "\n",
        "        x=x.view(-1, 8*8*16)\n",
        "        x=self.fc1(x)\n",
        "        x=torch.relu(x)\n",
        "        x=self.fc2(x)\n",
        "        x=torch.relu(x)\n",
        "        x=self.fc3(x)\n",
        "        x=torch.log_softmax(x, dim=1)\n",
        "        return x"
      ]
    },
    {
      "cell_type": "code",
      "execution_count": 4,
      "id": "95c33264",
      "metadata": {
        "colab": {
          "base_uri": "https://localhost:8080/"
        },
        "id": "95c33264",
        "outputId": "3e577f13-9ece-43b0-8bc3-f50faee564c1"
      },
      "outputs": [
        {
          "name": "stdout",
          "output_type": "stream",
          "text": [
            "Using PyTorch version: 2.7.0+cu126, Device: cpu\n"
          ]
        }
      ],
      "source": [
        "DEVICE=torch.device(\"cuda\" if torch.cuda.is_available() else \"cpu\")\n",
        "\n",
        "print(f\"Using PyTorch version: {torch.__version__}, Device: {DEVICE}\")\n",
        "\n",
        "model=CNN().to(DEVICE)\n",
        "optimizer=torch.optim.Adam(model.parameters(), lr=0.001)\n",
        "criterion=nn.CrossEntropyLoss()"
      ]
    },
    {
      "cell_type": "code",
      "execution_count": 5,
      "id": "207430f8",
      "metadata": {
        "id": "207430f8"
      },
      "outputs": [],
      "source": [
        "def train(model, train_loader,optimizer, log_interval):\n",
        "    model.train()\n",
        "    for batch_idx,(image,label) in enumerate(train_loader):\n",
        "        image=image.to(DEVICE)\n",
        "        label=label.to(DEVICE)\n",
        "        optimizer.zero_grad()\n",
        "        output=model(image)\n",
        "        loss=criterion(output,label)\n",
        "        loss.backward()\n",
        "        optimizer.step()\n",
        "        if batch_idx % log_interval == 0:\n",
        "            print(f'Train Epoch: {epoch} [{batch_idx * len(image)}/{len(train_loader.dataset)} ({100. * batch_idx / len(train_loader):.0f}%)]\\tLoss: {loss.item():.6f}')"
      ]
    },
    {
      "cell_type": "code",
      "execution_count": 6,
      "id": "7e7a2555",
      "metadata": {
        "id": "7e7a2555"
      },
      "outputs": [],
      "source": [
        "def evaluate(model,test_loader):\n",
        "    model.eval()\n",
        "    test_loss=0\n",
        "    correct=0\n",
        "    with torch.no_grad():\n",
        "        for image,label in test_loader:\n",
        "            image=image.to(DEVICE)\n",
        "            label=label.to(DEVICE)\n",
        "            output=model(image)\n",
        "            test_loss+=criterion(output,label).item()\n",
        "            pred=output.argmax(dim=1, keepdim=True)\n",
        "            correct+=pred.eq(label.view_as(pred)).sum().item()\n",
        "\n",
        "    test_loss/=len(test_loader.dataset)\n",
        "    test_accuracy=100. * correct / len(test_loader.dataset)\n",
        "    return test_loss, test_accuracy"
      ]
    },
    {
      "cell_type": "code",
      "execution_count": 8,
      "id": "eba4dfdc",
      "metadata": {
        "colab": {
          "base_uri": "https://localhost:8080/"
        },
        "id": "eba4dfdc",
        "outputId": "4eaee298-5d83-443f-d404-510bac3c5f28"
      },
      "outputs": [
        {
          "name": "stdout",
          "output_type": "stream",
          "text": [
            "Train Epoch: 1 [0/50000 (0%)]\tLoss: 1.070481\n",
            "Train Epoch: 1 [6400/50000 (13%)]\tLoss: 0.957054\n",
            "Train Epoch: 1 [12800/50000 (26%)]\tLoss: 0.939635\n",
            "Train Epoch: 1 [19200/50000 (38%)]\tLoss: 0.849104\n",
            "Train Epoch: 1 [25600/50000 (51%)]\tLoss: 0.960079\n",
            "Train Epoch: 1 [32000/50000 (64%)]\tLoss: 0.783564\n",
            "Train Epoch: 1 [38400/50000 (77%)]\tLoss: 0.936694\n",
            "Train Epoch: 1 [44800/50000 (90%)]\tLoss: 1.289720\n",
            "\n",
            "Test set: Average loss: 0.0327, Accuracy: 63.07%\n",
            "\n",
            "Train Epoch: 2 [0/50000 (0%)]\tLoss: 0.837698\n",
            "Train Epoch: 2 [6400/50000 (13%)]\tLoss: 0.964133\n",
            "Train Epoch: 2 [12800/50000 (26%)]\tLoss: 1.017292\n",
            "Train Epoch: 2 [19200/50000 (38%)]\tLoss: 1.161956\n",
            "Train Epoch: 2 [25600/50000 (51%)]\tLoss: 0.980478\n",
            "Train Epoch: 2 [32000/50000 (64%)]\tLoss: 0.883963\n",
            "Train Epoch: 2 [38400/50000 (77%)]\tLoss: 0.726088\n",
            "Train Epoch: 2 [44800/50000 (90%)]\tLoss: 0.860680\n",
            "\n",
            "Test set: Average loss: 0.0327, Accuracy: 63.62%\n",
            "\n",
            "Train Epoch: 3 [0/50000 (0%)]\tLoss: 1.303686\n",
            "Train Epoch: 3 [6400/50000 (13%)]\tLoss: 0.843108\n",
            "Train Epoch: 3 [12800/50000 (26%)]\tLoss: 0.885523\n",
            "Train Epoch: 3 [19200/50000 (38%)]\tLoss: 0.794064\n",
            "Train Epoch: 3 [25600/50000 (51%)]\tLoss: 0.791433\n",
            "Train Epoch: 3 [32000/50000 (64%)]\tLoss: 0.779896\n",
            "Train Epoch: 3 [38400/50000 (77%)]\tLoss: 1.048749\n",
            "Train Epoch: 3 [44800/50000 (90%)]\tLoss: 0.967419\n",
            "\n",
            "Test set: Average loss: 0.0327, Accuracy: 63.66%\n",
            "\n",
            "Train Epoch: 4 [0/50000 (0%)]\tLoss: 0.712490\n",
            "Train Epoch: 4 [6400/50000 (13%)]\tLoss: 0.805540\n",
            "Train Epoch: 4 [12800/50000 (26%)]\tLoss: 1.159008\n",
            "Train Epoch: 4 [19200/50000 (38%)]\tLoss: 0.927735\n",
            "Train Epoch: 4 [25600/50000 (51%)]\tLoss: 1.061528\n",
            "Train Epoch: 4 [32000/50000 (64%)]\tLoss: 0.801483\n",
            "Train Epoch: 4 [38400/50000 (77%)]\tLoss: 1.187251\n",
            "Train Epoch: 4 [44800/50000 (90%)]\tLoss: 0.865273\n",
            "\n",
            "Test set: Average loss: 0.0325, Accuracy: 63.98%\n",
            "\n",
            "Train Epoch: 5 [0/50000 (0%)]\tLoss: 1.183790\n",
            "Train Epoch: 5 [6400/50000 (13%)]\tLoss: 0.609796\n",
            "Train Epoch: 5 [12800/50000 (26%)]\tLoss: 1.031796\n",
            "Train Epoch: 5 [19200/50000 (38%)]\tLoss: 0.635380\n",
            "Train Epoch: 5 [25600/50000 (51%)]\tLoss: 0.895308\n",
            "Train Epoch: 5 [32000/50000 (64%)]\tLoss: 0.619423\n",
            "Train Epoch: 5 [38400/50000 (77%)]\tLoss: 0.974913\n",
            "Train Epoch: 5 [44800/50000 (90%)]\tLoss: 1.163025\n",
            "\n",
            "Test set: Average loss: 0.0334, Accuracy: 63.51%\n",
            "\n",
            "Train Epoch: 6 [0/50000 (0%)]\tLoss: 0.908951\n",
            "Train Epoch: 6 [6400/50000 (13%)]\tLoss: 1.329711\n",
            "Train Epoch: 6 [12800/50000 (26%)]\tLoss: 0.778545\n",
            "Train Epoch: 6 [19200/50000 (38%)]\tLoss: 0.746162\n",
            "Train Epoch: 6 [25600/50000 (51%)]\tLoss: 0.863414\n",
            "Train Epoch: 6 [32000/50000 (64%)]\tLoss: 0.846220\n",
            "Train Epoch: 6 [38400/50000 (77%)]\tLoss: 0.875247\n",
            "Train Epoch: 6 [44800/50000 (90%)]\tLoss: 0.641208\n",
            "\n",
            "Test set: Average loss: 0.0324, Accuracy: 64.73%\n",
            "\n",
            "Train Epoch: 7 [0/50000 (0%)]\tLoss: 0.586790\n",
            "Train Epoch: 7 [6400/50000 (13%)]\tLoss: 0.699238\n",
            "Train Epoch: 7 [12800/50000 (26%)]\tLoss: 0.855001\n",
            "Train Epoch: 7 [19200/50000 (38%)]\tLoss: 0.894017\n",
            "Train Epoch: 7 [25600/50000 (51%)]\tLoss: 0.794059\n",
            "Train Epoch: 7 [32000/50000 (64%)]\tLoss: 0.954130\n",
            "Train Epoch: 7 [38400/50000 (77%)]\tLoss: 0.927302\n",
            "Train Epoch: 7 [44800/50000 (90%)]\tLoss: 0.782706\n",
            "\n",
            "Test set: Average loss: 0.0331, Accuracy: 63.51%\n",
            "\n",
            "Train Epoch: 8 [0/50000 (0%)]\tLoss: 0.823287\n",
            "Train Epoch: 8 [6400/50000 (13%)]\tLoss: 0.991420\n",
            "Train Epoch: 8 [12800/50000 (26%)]\tLoss: 0.995347\n",
            "Train Epoch: 8 [19200/50000 (38%)]\tLoss: 0.747880\n",
            "Train Epoch: 8 [25600/50000 (51%)]\tLoss: 0.614503\n",
            "Train Epoch: 8 [32000/50000 (64%)]\tLoss: 0.914916\n",
            "Train Epoch: 8 [38400/50000 (77%)]\tLoss: 0.894231\n",
            "Train Epoch: 8 [44800/50000 (90%)]\tLoss: 0.815072\n",
            "\n",
            "Test set: Average loss: 0.0335, Accuracy: 62.93%\n",
            "\n",
            "Train Epoch: 9 [0/50000 (0%)]\tLoss: 0.678090\n",
            "Train Epoch: 9 [6400/50000 (13%)]\tLoss: 0.842148\n",
            "Train Epoch: 9 [12800/50000 (26%)]\tLoss: 1.063995\n",
            "Train Epoch: 9 [19200/50000 (38%)]\tLoss: 0.929732\n",
            "Train Epoch: 9 [25600/50000 (51%)]\tLoss: 0.728862\n",
            "Train Epoch: 9 [32000/50000 (64%)]\tLoss: 0.893915\n",
            "Train Epoch: 9 [38400/50000 (77%)]\tLoss: 0.816936\n",
            "Train Epoch: 9 [44800/50000 (90%)]\tLoss: 0.650109\n",
            "\n",
            "Test set: Average loss: 0.0333, Accuracy: 63.99%\n",
            "\n",
            "Train Epoch: 10 [0/50000 (0%)]\tLoss: 0.555303\n",
            "Train Epoch: 10 [6400/50000 (13%)]\tLoss: 1.069476\n",
            "Train Epoch: 10 [12800/50000 (26%)]\tLoss: 0.762502\n",
            "Train Epoch: 10 [19200/50000 (38%)]\tLoss: 1.081103\n",
            "Train Epoch: 10 [25600/50000 (51%)]\tLoss: 0.688568\n",
            "Train Epoch: 10 [32000/50000 (64%)]\tLoss: 0.661071\n",
            "Train Epoch: 10 [38400/50000 (77%)]\tLoss: 1.125036\n",
            "Train Epoch: 10 [44800/50000 (90%)]\tLoss: 0.559189\n",
            "\n",
            "Test set: Average loss: 0.0331, Accuracy: 63.79%\n",
            "\n"
          ]
        }
      ],
      "source": [
        "EPOCHS=10\n",
        "for epoch in range(1, EPOCHS + 1):\n",
        "    train(model, train_loader, optimizer, log_interval=200)\n",
        "    test_loss,test_accuracy=evaluate(model, test_loader)\n",
        "    print(f'\\nTest set: Average loss: {test_loss:.4f}, Accuracy: {test_accuracy:.2f}%\\n')\n"
      ]
    }
  ],
  "metadata": {
    "accelerator": "GPU",
    "colab": {
      "gpuType": "T4",
      "provenance": []
    },
    "kernelspec": {
      "display_name": ".venv",
      "language": "python",
      "name": "python3"
    },
    "language_info": {
      "codemirror_mode": {
        "name": "ipython",
        "version": 3
      },
      "file_extension": ".py",
      "mimetype": "text/x-python",
      "name": "python",
      "nbconvert_exporter": "python",
      "pygments_lexer": "ipython3",
      "version": "3.12.3"
    }
  },
  "nbformat": 4,
  "nbformat_minor": 5
}

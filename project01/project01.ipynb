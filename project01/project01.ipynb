{
  "cells": [
    {
      "cell_type": "code",
      "execution_count": 1,
      "id": "7da61954",
      "metadata": {
        "id": "7da61954"
      },
      "outputs": [],
      "source": [
        "# Load all dependencies\n",
        "import torch\n",
        "import torch.nn as nn\n",
        "from torchvision import transforms, datasets"
      ]
    },
    {
      "cell_type": "code",
      "execution_count": 2,
      "id": "27a69289",
      "metadata": {
        "colab": {
          "base_uri": "https://localhost:8080/"
        },
        "id": "27a69289",
        "outputId": "0b98646d-9829-4d87-fcba-8ae0f8fe432c"
      },
      "outputs": [
        {
          "name": "stdout",
          "output_type": "stream",
          "text": [
            "Dataset CIFAR10\n",
            "    Number of datapoints: 50000\n",
            "    Root location: ./data\n",
            "    Split: Train\n",
            "    StandardTransform\n",
            "Transform: Compose(\n",
            "               RandomApply(\n",
            "               p=0.1\n",
            "               RandomHorizontalFlip(p=0.5)\n",
            "               RandomRotation(degrees=[-15.0, 15.0], interpolation=nearest, expand=False, fill=0)\n",
            "               ColorJitter(brightness=(0.8, 1.2), contrast=(0.8, 1.2), saturation=(0.8, 1.2), hue=(-0.2, 0.2))\n",
            "           )\n",
            "               ToTensor()\n",
            "           )\n"
          ]
        }
      ],
      "source": [
        "# Load CIFar-10 dataset\n",
        "BATCH_SIZE=32\n",
        "PERCENTAGE=0.1\n",
        "# Define the transformation\n",
        "train_dataset = datasets.CIFAR10(root='./data',\n",
        "                                             train=True,\n",
        "                                             download=True,\n",
        "                                             transform=transforms.Compose([\n",
        "                                                 transforms.RandomApply(\n",
        "                                                 [\n",
        "                                                #  transforms.RandomCrop(size=24,padding=4),\n",
        "                                                 transforms.RandomHorizontalFlip(),\n",
        "                                                 transforms.RandomRotation(degrees=15),\n",
        "                                                 transforms.ColorJitter(brightness=0.2, contrast=0.2, saturation=0.2, hue=0.2),\n",
        "                                \n",
        "                                             ],p=PERCENTAGE),\n",
        "                                                    transforms.ToTensor(),\n",
        "                                                    \n",
        "                                                ]))\n",
        "test_dataset = datasets.CIFAR10(root='./data',\n",
        "                                            train=False,\n",
        "                                            download=True,\n",
        "                                            transform=transforms.ToTensor())\n",
        "train_loader = torch.utils.data.DataLoader(dataset=train_dataset,\n",
        "                                           batch_size=BATCH_SIZE,\n",
        "                                           shuffle=True)\n",
        "\n",
        "test_loader = torch.utils.data.DataLoader(dataset=test_dataset,\n",
        "                                           batch_size=BATCH_SIZE,\n",
        "                                           shuffle=False)\n",
        "\n",
        "print(train_loader.dataset)\n"
      ]
    },
    {
      "cell_type": "code",
      "execution_count": 3,
      "id": "bdd92e3b",
      "metadata": {
        "id": "bdd92e3b"
      },
      "outputs": [],
      "source": [
        "class CNN(nn.Module):\n",
        "    def __init__(self,p_spatial,p_fc):\n",
        "        super(CNN, self).__init__()\n",
        "        self.conv1=nn.Conv2d(\n",
        "            in_channels=3,\n",
        "            out_channels=8,\n",
        "            kernel_size=3,\n",
        "            padding=1)\n",
        "        self.conv2=nn.Conv2d(\n",
        "            in_channels=8,\n",
        "            out_channels=16,\n",
        "            kernel_size=3,\n",
        "            padding=1)\n",
        "        self.pool=nn.MaxPool2d(kernel_size=2, stride=2)\n",
        "        \n",
        "        self.drop2d=nn.Dropout2d(p=p_spatial)\n",
        "\n",
        "        self.fc1=nn.Linear(8*8*16,64)\n",
        "        self.fc2=nn.Linear(64,32)\n",
        "        self.fc3=nn.Linear(32,10)\n",
        "\n",
        "        self.dropout=nn.Dropout(p=p_fc)\n",
        "\n",
        "    def forward(self, x):\n",
        "        x=self.conv1(x)\n",
        "        x=torch.relu(x)\n",
        "        x=self.pool(x)\n",
        "        x=self.drop2d(x)\n",
        "\n",
        "        x=self.conv2(x)\n",
        "        x=torch.relu(x)\n",
        "        x=self.pool(x)\n",
        "        x=self.drop2d(x)\n",
        "\n",
        "        x=x.view(-1, 8*8*16)\n",
        "        x=self.fc1(x)\n",
        "        x=torch.relu(x)\n",
        "        x=self.dropout(x)\n",
        "\n",
        "        x=self.fc2(x)\n",
        "        x=torch.relu(x)\n",
        "        x=self.dropout(x)\n",
        "        \n",
        "        x=self.fc3(x)\n",
        "        x=torch.log_softmax(x, dim=1)\n",
        "        return x"
      ]
    },
    {
      "cell_type": "code",
      "execution_count": 5,
      "id": "95c33264",
      "metadata": {
        "colab": {
          "base_uri": "https://localhost:8080/"
        },
        "id": "95c33264",
        "outputId": "3e577f13-9ece-43b0-8bc3-f50faee564c1"
      },
      "outputs": [
        {
          "name": "stdout",
          "output_type": "stream",
          "text": [
            "Using PyTorch version: 2.7.0+cu126, Device: cpu\n"
          ]
        }
      ],
      "source": [
        "DEVICE=torch.device(\"cuda\" if torch.cuda.is_available() else \"cpu\")\n",
        "\n",
        "print(f\"Using PyTorch version: {torch.__version__}, Device: {DEVICE}\")\n",
        "\n",
        "model=CNN(0.2,0.5).to(DEVICE)\n",
        "optimizer=torch.optim.Adam(model.parameters(), lr=0.001)\n",
        "criterion=nn.CrossEntropyLoss()"
      ]
    },
    {
      "cell_type": "code",
      "execution_count": 6,
      "id": "207430f8",
      "metadata": {
        "id": "207430f8"
      },
      "outputs": [],
      "source": [
        "def train(model, train_loader,optimizer, log_interval):\n",
        "    model.train()\n",
        "    for batch_idx,(image,label) in enumerate(train_loader):\n",
        "        image=image.to(DEVICE)\n",
        "        label=label.to(DEVICE)\n",
        "        optimizer.zero_grad()\n",
        "        output=model(image)\n",
        "        loss=criterion(output,label)\n",
        "        loss.backward()\n",
        "        optimizer.step()\n",
        "        if batch_idx % log_interval == 0:\n",
        "            print(f'Train Epoch: {epoch} [{batch_idx * len(image)}/{len(train_loader.dataset)} ({100. * batch_idx / len(train_loader):.0f}%)]\\tLoss: {loss.item():.6f}')"
      ]
    },
    {
      "cell_type": "code",
      "execution_count": 7,
      "id": "7e7a2555",
      "metadata": {
        "id": "7e7a2555"
      },
      "outputs": [],
      "source": [
        "def evaluate(model,test_loader):\n",
        "    model.eval()\n",
        "    test_loss=0\n",
        "    correct=0\n",
        "    with torch.no_grad():\n",
        "        for image,label in test_loader:\n",
        "            image=image.to(DEVICE)\n",
        "            label=label.to(DEVICE)\n",
        "            output=model(image)\n",
        "            test_loss+=criterion(output,label).item()\n",
        "            pred=output.argmax(dim=1, keepdim=True)\n",
        "            correct+=pred.eq(label.view_as(pred)).sum().item()\n",
        "\n",
        "    test_loss/=len(test_loader.dataset)\n",
        "    test_accuracy=100. * correct / len(test_loader.dataset)\n",
        "    return test_loss, test_accuracy"
      ]
    },
    {
      "cell_type": "code",
      "execution_count": null,
      "id": "eba4dfdc",
      "metadata": {
        "colab": {
          "base_uri": "https://localhost:8080/"
        },
        "id": "eba4dfdc",
        "outputId": "4eaee298-5d83-443f-d404-510bac3c5f28"
      },
      "outputs": [
        {
          "name": "stdout",
          "output_type": "stream",
          "text": [
            "Train Epoch: 1 [0/50000 (0%)]\tLoss: 2.283249\n",
            "Train Epoch: 1 [6400/50000 (13%)]\tLoss: 2.186934\n",
            "Train Epoch: 1 [12800/50000 (26%)]\tLoss: 2.088784\n",
            "Train Epoch: 1 [19200/50000 (38%)]\tLoss: 2.100415\n",
            "Train Epoch: 1 [25600/50000 (51%)]\tLoss: 2.077211\n",
            "Train Epoch: 1 [32000/50000 (64%)]\tLoss: 1.911046\n",
            "Train Epoch: 1 [38400/50000 (77%)]\tLoss: 1.970299\n",
            "Train Epoch: 1 [44800/50000 (90%)]\tLoss: 1.908087\n",
            "\n",
            "Test set: Average loss: 0.0552, Accuracy: 35.43%\n",
            "\n",
            "Train Epoch: 2 [0/50000 (0%)]\tLoss: 1.976043\n",
            "Train Epoch: 2 [6400/50000 (13%)]\tLoss: 1.812139\n",
            "Train Epoch: 2 [12800/50000 (26%)]\tLoss: 1.878595\n",
            "Train Epoch: 2 [19200/50000 (38%)]\tLoss: 1.675290\n",
            "Train Epoch: 2 [25600/50000 (51%)]\tLoss: 1.808419\n",
            "Train Epoch: 2 [32000/50000 (64%)]\tLoss: 1.933516\n",
            "Train Epoch: 2 [38400/50000 (77%)]\tLoss: 1.706909\n",
            "Train Epoch: 2 [44800/50000 (90%)]\tLoss: 2.029387\n",
            "\n",
            "Test set: Average loss: 0.0509, Accuracy: 42.24%\n",
            "\n",
            "Train Epoch: 3 [0/50000 (0%)]\tLoss: 1.734662\n",
            "Train Epoch: 3 [6400/50000 (13%)]\tLoss: 1.865310\n",
            "Train Epoch: 3 [12800/50000 (26%)]\tLoss: 1.751885\n",
            "Train Epoch: 3 [19200/50000 (38%)]\tLoss: 1.852303\n",
            "Train Epoch: 3 [25600/50000 (51%)]\tLoss: 1.763127\n"
          ]
        }
      ],
      "source": [
        "EPOCHS=10\n",
        "for epoch in range(1, EPOCHS + 1):\n",
        "    train(model, train_loader, optimizer, log_interval=200)\n",
        "    test_loss,test_accuracy=evaluate(model, test_loader)\n",
        "    print(f'\\nTest set: Average loss: {test_loss:.4f}, Accuracy: {test_accuracy:.2f}%\\n')\n"
      ]
    }
  ],
  "metadata": {
    "accelerator": "GPU",
    "colab": {
      "gpuType": "T4",
      "provenance": []
    },
    "kernelspec": {
      "display_name": ".venv",
      "language": "python",
      "name": "python3"
    },
    "language_info": {
      "codemirror_mode": {
        "name": "ipython",
        "version": 3
      },
      "file_extension": ".py",
      "mimetype": "text/x-python",
      "name": "python",
      "nbconvert_exporter": "python",
      "pygments_lexer": "ipython3",
      "version": "3.12.3"
    }
  },
  "nbformat": 4,
  "nbformat_minor": 5
}

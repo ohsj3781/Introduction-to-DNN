{
  "cells": [
    {
      "cell_type": "markdown",
      "id": "2ab48437",
      "metadata": {},
      "source": [
        "코드 실행을 위하여 모든 줄 실행을 하면 최종 결과가 log.txt 파일에 남게됩니다."
      ]
    },
    {
      "cell_type": "code",
      "execution_count": null,
      "id": "166435ec",
      "metadata": {},
      "outputs": [],
      "source": [
        "# Declaration of hyperparameters for training a neural network\n",
        "BATCH_SIZE=64\n",
        "EPOCHS=32\n",
        "AUGEMENTATION_PERCENTAGE = 0.2\n",
        "LEARNING_RATE=0.1\n",
        "# OPTIMIZER='adam'\n",
        "OPTIMIZER='sgd'\n",
        "DROPOUT=0.2\n",
        "# SCHEDULER='LambdaLR'\n",
        "SCHEDULER='StepLR'\n",
        "STEP_SIZE=16\n",
        "GAMMA=0.1\n",
        "# DECRESE_LR=0.95\n"
      ]
    },
    {
      "cell_type": "markdown",
      "id": "9b5397b8",
      "metadata": {},
      "source": []
    },
    {
      "cell_type": "code",
      "execution_count": null,
      "id": "7da61954",
      "metadata": {
        "id": "7da61954"
      },
      "outputs": [],
      "source": [
        "# Load all dependencies\n",
        "import torch\n",
        "import torch.nn as nn\n",
        "from torchvision import transforms, datasets"
      ]
    },
    {
      "cell_type": "code",
      "execution_count": null,
      "id": "27a69289",
      "metadata": {
        "colab": {
          "base_uri": "https://localhost:8080/"
        },
        "id": "27a69289",
        "outputId": "0b98646d-9829-4d87-fcba-8ae0f8fe432c"
      },
      "outputs": [],
      "source": [
        "# Load CIFar-10 dataset and apply data augmentation\n",
        "\n",
        "# Define the transformation\n",
        "train_dataset = datasets.CIFAR10(root='./data',\n",
        "                                             train=True,\n",
        "                                             download=True,\n",
        "                                             transform=transforms.Compose([\n",
        "                                                 transforms.RandomApply(\n",
        "                                                 [\n",
        "                                                #  transforms.RandomCrop(size=24,padding=4),\n",
        "                                                 transforms.RandomHorizontalFlip(),\n",
        "                                                 transforms.RandomRotation(degrees=30),\n",
        "                                                 transforms.ColorJitter(brightness=0.2, contrast=0.2, saturation=0.2, hue=0.2),\n",
        "                                \n",
        "                                             ],p=AUGEMENTATION_PERCENTAGE),\n",
        "                                                    transforms.ToTensor(),\n",
        "                                                    \n",
        "                                                ]))\n",
        "test_dataset = datasets.CIFAR10(root='./data',\n",
        "                                            train=False,\n",
        "                                            download=True,\n",
        "                                            transform=transforms.ToTensor())\n",
        "\n",
        "train_loader = torch.utils.data.DataLoader(dataset=train_dataset,\n",
        "                                           batch_size=BATCH_SIZE,\n",
        "                                           shuffle=True)\n",
        "test_loader = torch.utils.data.DataLoader(dataset=test_dataset,\n",
        "                                           batch_size=BATCH_SIZE,\n",
        "                                           shuffle=False)\n",
        "\n",
        "classes = ('plane', 'car', 'bird', 'cat',\n",
        "           'deer', 'dog', 'frog', 'horse', 'ship', 'truck')\n",
        "\n",
        "print(train_loader.dataset)\n",
        "print(train_loader.dataset.data.shape)\n"
      ]
    },
    {
      "cell_type": "code",
      "execution_count": null,
      "id": "bdd92e3b",
      "metadata": {
        "id": "bdd92e3b"
      },
      "outputs": [],
      "source": [
        "class CNN(nn.Module):\n",
        "    \"\"\"4-conv original architecture (NOT copied from any public model).\"\"\"\n",
        "    def __init__(self, p_drop=0):\n",
        "        super().__init__()\n",
        "        # 32x32 → 16x16\n",
        "        self.conv_block1 = nn.Sequential(\n",
        "            nn.Conv2d(3, 64, 3, padding=1, bias=False),\n",
        "            nn.BatchNorm2d(64),\n",
        "            nn.ReLU(inplace=True),\n",
        "            nn.Conv2d(64, 64, 3, padding=1, bias=False),\n",
        "            nn.BatchNorm2d(64),\n",
        "            nn.ReLU(inplace=True),\n",
        "            nn.MaxPool2d(2),\n",
        "        )\n",
        "        # 16x16 → 8x8\n",
        "        self.conv_block2 = nn.Sequential(\n",
        "            nn.Conv2d(64, 128, 3, padding=1, bias=False),\n",
        "            nn.BatchNorm2d(128),\n",
        "            nn.ReLU(inplace=True),\n",
        "            nn.Conv2d(128, 128, 3, padding=1, bias=False),\n",
        "            nn.BatchNorm2d(128),\n",
        "            nn.ReLU(inplace=True),\n",
        "            nn.MaxPool2d(2),\n",
        "            nn.Dropout2d(p_drop),\n",
        "        )\n",
        "        # 8x8 → 4x4\n",
        "        self.conv_block3 = nn.Sequential(\n",
        "            nn.Conv2d(128, 256, 3, padding=1, bias=False),\n",
        "            nn.BatchNorm2d(256),\n",
        "            nn.ReLU(inplace=True),\n",
        "            nn.Conv2d(256, 256, 3, padding=1, bias=False),\n",
        "            nn.BatchNorm2d(256),\n",
        "            nn.ReLU(inplace=True),\n",
        "            nn.MaxPool2d(2),\n",
        "            nn.Dropout2d(p_drop),\n",
        "        )\n",
        "        # 4x4 → 1x1\n",
        "        self.conv_block4 = nn.Sequential(\n",
        "            nn.Conv2d(256, 512, 3, padding=1, bias=False),\n",
        "            nn.BatchNorm2d(512),\n",
        "            nn.ReLU(inplace=True),\n",
        "            nn.AdaptiveAvgPool2d(1),\n",
        "        )\n",
        "        self.classifier = nn.Linear(512, 10)\n",
        "\n",
        "    def forward(self, x):\n",
        "        x = self.conv_block1(x)\n",
        "        x = self.conv_block2(x)\n",
        "        x = self.conv_block3(x)\n",
        "        x = self.conv_block4(x)\n",
        "        x = x.flatten(1)\n",
        "        return self.classifier(x)"
      ]
    },
    {
      "cell_type": "code",
      "execution_count": null,
      "id": "95c33264",
      "metadata": {
        "colab": {
          "base_uri": "https://localhost:8080/"
        },
        "id": "95c33264",
        "outputId": "3e577f13-9ece-43b0-8bc3-f50faee564c1"
      },
      "outputs": [],
      "source": [
        "DEVICE=torch.device(\"cuda\" if torch.cuda.is_available() else \"cpu\")\n",
        "\n",
        "model=CNN(p_drop=DROPOUT).to(DEVICE)\n",
        "# optimizer=torch.optim.Adam(model.parameters(), lr=LEARNING_RATE)\n",
        "if OPTIMIZER == 'adam':\n",
        "    optimizer = torch.optim.Adam(model.parameters(), lr=LEARNING_RATE)\n",
        "elif OPTIMIZER == 'sgd':\n",
        "    optimizer = torch.optim.SGD(model.parameters(), lr=LEARNING_RATE, momentum=0.9)\n",
        "\n",
        "scheduler=torch.optim.lr_scheduler.StepLR(optimizer, step_size=STEP_SIZE, gamma=GAMMA)\n",
        "# scheduler=torch.optim.lr_scheduler.LambdaLR(optimizer, lr_lambda=lambda epoch: DECRESE_LR ** epoch)\n",
        "criterion=nn.CrossEntropyLoss()"
      ]
    },
    {
      "cell_type": "code",
      "execution_count": null,
      "id": "207430f8",
      "metadata": {
        "id": "207430f8"
      },
      "outputs": [],
      "source": [
        "def train(model, train_loader,optimizer):\n",
        "    model.train()\n",
        "    for batch_idx,(image,label) in enumerate(train_loader):\n",
        "        image=image.to(DEVICE)\n",
        "        label=label.to(DEVICE)\n",
        "        optimizer.zero_grad()\n",
        "\n",
        "        output=model(image)\n",
        "        loss=criterion(output,label)\n",
        "        loss.backward()\n",
        "        optimizer.step()\n",
        "    scheduler.step()"
      ]
    },
    {
      "cell_type": "code",
      "execution_count": null,
      "id": "7e7a2555",
      "metadata": {
        "id": "7e7a2555"
      },
      "outputs": [],
      "source": [
        "def evaluate(model,test_loader):\n",
        "    model.eval()\n",
        "    correct_pred = {classname: 0 for classname in classes}\n",
        "    total_pred = {classname: 0 for classname in classes}\n",
        "    with torch.no_grad():\n",
        "       for image,label in test_loader:\n",
        "        images=image.to(DEVICE)\n",
        "        labels=label.to(DEVICE)\n",
        "        outputs = model(images)\n",
        "        _, predictions = torch.max(outputs, 1)\n",
        "        # collect the correct predictions for each class\n",
        "        for label, prediction in zip(labels, predictions):\n",
        "            if label == prediction:\n",
        "                correct_pred[classes[label]] += 1\n",
        "            total_pred[classes[label]] += 1\n",
        "    accuracy = {classname: correct / total_pred[classname] * 100 for classname, correct in correct_pred.items()} \n",
        "    return accuracy"
      ]
    },
    {
      "cell_type": "code",
      "execution_count": null,
      "id": "eba4dfdc",
      "metadata": {
        "colab": {
          "base_uri": "https://localhost:8080/"
        },
        "id": "eba4dfdc",
        "outputId": "4eaee298-5d83-443f-d404-510bac3c5f28"
      },
      "outputs": [],
      "source": [
        "\n",
        "# Training and evaluation loop\n",
        "for epoch in range(1, EPOCHS + 1):\n",
        "    train(model, train_loader, optimizer)\n",
        "    accuracy=evaluate(model, test_loader)\n",
        "    print(f'Epoch {epoch}, Accuracy: {accuracy}')\n",
        "accuracy=evaluate(model, test_loader)"
      ]
    },
    {
      "cell_type": "code",
      "execution_count": null,
      "id": "69a0bb2c",
      "metadata": {},
      "outputs": [],
      "source": [
        "f=open('./log.txt','a')\n",
        "f.write(f'BATCH_SIZE={BATCH_SIZE},EPOCHS={EPOCHS},AUGEMENTATION_PERCENTAGE={AUGEMENTATION_PERCENTAGE},LEARNING_RATE={LEARNING_RATE},OPTIMIZER={OPTIMIZER},DROPOUT={DROPOUT},SCHEDULER={SCHEDULER}, STEP_SIZE={STEP_SIZE}, GAMMA={GAMMA}\\n')\n",
        "for classname, percent in accuracy.items():\n",
        "    f.write(f'{classname}: {percent:.2f}% ')\n",
        "f.write('\\n')\n",
        "f.close()"
      ]
    }
  ],
  "metadata": {
    "accelerator": "GPU",
    "colab": {
      "gpuType": "T4",
      "provenance": []
    },
    "kernelspec": {
      "display_name": ".venv",
      "language": "python",
      "name": "python3"
    },
    "language_info": {
      "codemirror_mode": {
        "name": "ipython",
        "version": 3
      },
      "file_extension": ".py",
      "mimetype": "text/x-python",
      "name": "python",
      "nbconvert_exporter": "python",
      "pygments_lexer": "ipython3",
      "version": "3.12.3"
    }
  },
  "nbformat": 4,
  "nbformat_minor": 5
}
